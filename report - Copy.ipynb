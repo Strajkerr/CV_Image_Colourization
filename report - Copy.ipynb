{
  "cells": [
    {
      "cell_type": "markdown",
      "metadata": {
        "id": "YXdlfpd9g72d"
      },
      "source": [
        "# CV Project 3 - Image Colourization on pets dataset"
      ]
    },
    {
      "cell_type": "code",
      "execution_count": null,
      "metadata": {
        "colab": {
          "base_uri": "https://localhost:8080/"
        },
        "id": "TsNSyLdmhpfw",
        "outputId": "85489df9-c273-44bc-ff60-4a611ec92a64"
      },
      "outputs": [
        {
          "name": "stdout",
          "output_type": "stream",
          "text": [
            "Mounted at /content/drive\n"
          ]
        }
      ],
      "source": [
        "from google.colab import drive\n",
        "drive.mount('/content/drive')"
      ]
    },
    {
      "cell_type": "markdown",
      "metadata": {
        "id": "-6CkxDwWg72f"
      },
      "source": [
        "Prepared by:\n",
        " - Marianna Myszkowska 156041\n",
        " - Jakub Liszyński 156060"
      ]
    },
    {
      "cell_type": "markdown",
      "metadata": {
        "id": "dUyv4iD4g72f"
      },
      "source": [
        "## Data set\n",
        "The Oxford-IIIT Pet Dataset is a comprehensive collection of images featuring 37 distinct pet breeds, including both cats and dogs, with approximately 200 images per breed. The dataset offers significant diversity in terms of scale, pose, and lighting conditions, making it valuable for various computer vision tasks.\n",
        "\n",
        "### Key Features:\n",
        "- **Breed Annotations:** Each image is labeled with its respective breed, facilitating classification tasks.\n",
        "- **Head Region of Interest (ROI):** Annotations include bounding boxes around the pet's head, aiding in localization studies.\n",
        "- **Pixel-Level Trimap Segmentation:** Detailed annotations provide pixel-wise segmentation, distinguishing between the pet, foreground, and background, which is particularly useful for segmentation tasks.\n",
        "\n",
        "## Sample Images:\n",
        "Here are a few examples from the dataset:\n",
        "\n",
        "\n",
        "![card](raport_sources\\dataset-card.png)\n",
        "\n",
        "\n",
        "In order to use this dataset for our project we wil first convert images to grayscale and only then we wil use them. The Original images will be used as a reference while coloring the images.\n",
        "\n",
        "![colored](raport_sources\\Abyssinian_1.jpg)\n",
        "![gray](raport_sources\\Abyssinian_1_gray.jpg)\n",
        "\n"
      ]
    },
    {
      "cell_type": "code",
      "execution_count": null,
      "metadata": {
        "id": "5s2pOKATg72g"
      },
      "outputs": [],
      "source": [
        "import os\n",
        "from PIL import Image\n",
        "def convert_images_to_grayscale(input_folder, output_folder):\n",
        "    if not os.path.exists(output_folder):\n",
        "        os.makedirs(output_folder)\n",
        "    if not os.listdir(input_folder):\n",
        "        raise ValueError('Input folder is empty. Please ensure it contains images.')\n",
        "    for filename in os.listdir(input_folder):\n",
        "        if filename.endswith(('.png', '.jpg', '.jpeg')):\n",
        "            img_path = os.path.join(input_folder, filename)\n",
        "            img = Image.open(img_path).convert('L')\n",
        "            gray_img_path = os.path.join(output_folder, f\"{os.path.splitext(filename)[0]}_gray{os.path.splitext(filename)[1]}\")\n",
        "            img.save(gray_img_path)\n",
        "            print(f\"Converted {filename} to grayscale and saved as {gray_img_path}\")\n"
      ]
    },
    {
      "cell_type": "markdown",
      "metadata": {
        "id": "Yw5XiGd1g72h"
      },
      "source": [
        "\n",
        "For more information and to access the dataset, please visit the [official website](https://www.robots.ox.ac.uk/~vgg/data/pets/)."
      ]
    },
    {
      "cell_type": "markdown",
      "metadata": {
        "id": "qoonaUFsg72h"
      },
      "source": [
        "## The problem - Image colorization\n",
        "Image colorization is the process of adding plausible color information to grayscale images or videos. This task is inherently challenging due to its ill-posed nature; a single grayscale image can correspond to multiple valid color interpretations. Consequently, the model must infer and predict realistic colors for each pixel, often relying on learned patterns and contextual cues.\n",
        "\n",
        "Traditionally, colorization was performed manually by artists, which was time-consuming and required significant expertise. With advancements in deep learning, automated approaches have been developed to tackle this problem. These methods typically involve training convolutional neural networks (CNNs) on large datasets of color images. During training, the models learn to map grayscale inputs to their corresponding color outputs, capturing semantic and contextual information to produce realistic colorizations.\n",
        "\n",
        "Despite these advancements, challenges remain. The ambiguity of the task means that multiple color outputs can be correct for a single grayscale input. For instance, a grayscale image of a car could be red, blue, or any other color, and all would be plausible. Addressing this uncertainty is a key focus in current research, with approaches exploring probabilistic models and user-guided colorization to refine results.\n",
        "\n",
        "In summary, image colorization is a complex and underdetermined problem that seeks to enrich grayscale images by predicting and applying appropriate colors, leveraging machine learning techniques to achieve this goal."
      ]
    },
    {
      "cell_type": "markdown",
      "metadata": {
        "id": "nMXYn2Dfg72i"
      },
      "source": [
        "## Used architectures\n",
        "\n",
        "## 1. architecture 1 using tensor flow\n",
        "\n",
        "The architecture used for the image colorization task is a Convolutional Neural Network (CNN) designed to map grayscale images to their corresponding color images. The model consists of several layers, each with a specific function:\n",
        "\n",
        "1. **Input Layer:**\n",
        "   - **Shape:** (256, 256, 1)\n",
        "   - **Description:** This layer accepts grayscale images of size 256x256 pixels with a single channel.\n",
        "\n",
        "2. **Convolutional Layer 1:**\n",
        "   - **Filters:** 64\n",
        "   - **Kernel Size:** (3, 3)\n",
        "   - **Activation:** ReLU\n",
        "   - **Padding:** Same\n",
        "   - **Description:** This layer applies 64 convolutional filters to the input image, each of size 3x3, and uses the ReLU activation function to introduce non-linearity. The 'same' padding ensures that the output has the same spatial dimensions as the input.\n",
        "\n",
        "3. **UpSampling Layer 1:**\n",
        "   - **Size:** (2, 2)\n",
        "   - **Description:** This layer upsamples the input by a factor of 2, effectively doubling the spatial dimensions of the feature maps.\n",
        "\n",
        "4. **Convolutional Layer 2:**\n",
        "   - **Filters:** 32\n",
        "   - **Kernel Size:** (3, 3)\n",
        "   - **Activation:** ReLU\n",
        "   - **Padding:** Same\n",
        "   - **Description:** Similar to the first convolutional layer, but with 32 filters.\n",
        "\n",
        "5. **UpSampling Layer 2:**\n",
        "   - **Size:** (2, 2)\n",
        "   - **Description:** This layer upsamples the input by a factor of 2 again.\n",
        "\n",
        "6. **Convolutional Layer 3:**\n",
        "   - **Filters:** 16\n",
        "   - **Kernel Size:** (3, 3)\n",
        "   - **Activation:** ReLU\n",
        "   - **Padding:** Same\n",
        "   - **Description:** Similar to the previous convolutional layers, but with 16 filters.\n",
        "\n",
        "7. **Output Convolutional Layer:**\n",
        "   - **Filters:** 3\n",
        "   - **Kernel Size:** (3, 3)\n",
        "   - **Activation:** Sigmoid\n",
        "   - **Padding:** Same\n",
        "   - **Description:** This layer produces the final output with 3 channels (representing the RGB color channels) and uses the sigmoid activation function to ensure the output values are between 0 and 1.\n",
        "\n",
        "### Model Diagram\n",
        "Below is a diagram representing the architecture of the model:\n",
        "\n",
        "```\n",
        "Input (256, 256, 1)\n",
        "    ↓\n",
        "Conv2D (64 filters, 3x3, ReLU, same padding)\n",
        "    ↓\n",
        "UpSampling2D (2x2)\n",
        "    ↓\n",
        "Conv2D (32 filters, 3x3, ReLU, same padding)\n",
        "    ↓\n",
        "UpSampling2D (2x2)\n",
        "    ↓\n",
        "Conv2D (16 filters, 3x3, ReLU, same padding)\n",
        "    ↓\n",
        "Conv2D (3 filters, 3x3, Sigmoid, same padding)\n",
        "    ↓\n",
        "Output (256, 256, 3)\n",
        "```\n",
        "![model](raport_sources\\tensorflow.png)"
      ]
    },
    {
      "cell_type": "markdown",
      "metadata": {
        "id": "TpoAGu5Pg72i"
      },
      "source": [
        "## 2. Pytorch approach architecture 2\n",
        "One approach involved designing a neural network with an encoder-decoder structure to predict colors from grayscale inputs. A dataset of paired grayscale and color images was prepared, and the model was tested briefly using mixed-precision training. However, this specific approach was abandoned after initial trials, due to extremly slow learning, even tho it was trained using GPU, thats why we never finished learning process and abandon this at very start.\n",
        "\n",
        "````PYTHON\n",
        "# Dataset class\n",
        "class ColorizationNet(nn.Module):\n",
        "    def __init__(self):\n",
        "        super(ColorizationNet, self).__init__()\n",
        "        self.encoder = nn.Sequential(\n",
        "            nn.Conv2d(1, 64, kernel_size=3, padding=1),  # Input: 1x256x256\n",
        "            nn.ReLU(),\n",
        "            nn.Conv2d(64, 128, kernel_size=3, stride=2, padding=1),  # Downsample: 128x128x128\n",
        "            nn.ReLU(),\n",
        "            nn.Conv2d(128, 256, kernel_size=3, stride=2, padding=1),  # Downsample: 256x64x64\n",
        "            nn.ReLU()\n",
        "        )\n",
        "        self.middle = nn.Sequential(\n",
        "            nn.Conv2d(256, 512, kernel_size=3, padding=1),  # Bottleneck\n",
        "            nn.ReLU()\n",
        "        )\n",
        "        self.decoder = nn.Sequential(\n",
        "            nn.ConvTranspose2d(512, 256, kernel_size=3, stride=2, padding=1, output_padding=1),  # Upsample: 256x128x128\n",
        "            nn.ReLU(),\n",
        "            nn.ConvTranspose2d(256, 128, kernel_size=3, stride=2, padding=1, output_padding=1),  # Upsample: 128x256x256\n",
        "            nn.ReLU(),\n",
        "            nn.Conv2d(128, 64, kernel_size=3, padding=1),  \n",
        "            nn.ReLU(),\n",
        "            nn.Conv2d(64, 3, kernel_size=3, padding=1),  # Output: 3x256x256\n",
        "            nn.Sigmoid()\n",
        "        )\n",
        "\n",
        "    def forward(self, x):\n",
        "        x = self.encoder(x)\n",
        "        x = self.middle(x)\n",
        "        x = self.decoder(x)\n",
        "        return x\n",
        "````"
      ]
    },
    {
      "cell_type": "markdown",
      "metadata": {
        "id": "m0sJxHy1g72j"
      },
      "source": [
        "## 3. Architecture 3 using tensor flow"
      ]
    },
    {
      "cell_type": "markdown",
      "metadata": {
        "id": "_QJ4cgIYj87v"
      },
      "source": [
        "1. Input Layer:\n",
        "    - Shape: (256, 256, 1)\n",
        "    - Description: This layer accepts grayscale images of size 256x256 pixels with a single channel.\n",
        "\n",
        "2. Convolutional Layer 1:\n",
        "  - Filters: 64\n",
        "  - Kernel Size: (3, 3)\n",
        "  - Stride: 2\n",
        "  - Activation: ReLU\n",
        "  - Padding: Same\n",
        "  - Description: This layer applies 64 convolutional filters of size 3x3 to the input image. The stride of 2 reduces the spatial dimensions by half. The ReLU activation introduces non-linearity, and 'same' padding ensures the output retains important edge features.\n",
        "\n",
        "3. Batch Normalization 1:\n",
        "    - Description: This layer normalizes the feature maps to stabilize training and improve convergence.\n",
        "\n",
        "4. Convolutional Layer 2:\n",
        "  - Filters: 128\n",
        "  - Kernel Size: (3, 3)\n",
        "  - Stride: 2\n",
        "  - Activation: ReLU\n",
        "  - Padding: Same\n",
        "  - Description: This layer further processes the feature maps, using 128 filters of size 3x3. The stride of 2 reduces spatial dimensions again, and ReLU introduces non-linearity.\n",
        "\n",
        "5. Batch Normalization 2:\n",
        "\n",
        "    - Description: This layer normalizes the feature maps from the previous layer for better training performance.\n",
        "\n",
        "6. UpSampling Layer 1:\n",
        "    - Size: (2, 2)\n",
        "    - Description: This layer upsamples the feature maps by a factor of 2, doubling the spatial dimensions.\n",
        "\n",
        "7. Convolutional Layer 3:\n",
        "\n",
        "    - Filters: 64\n",
        "    - Kernel Size: (3, 3)\n",
        "    - Activation: ReLU\n",
        "    - Padding: Same\n",
        "    - Description: After upsampling, this layer applies 64 convolutional filters of size 3x3 to refine the upsampled feature maps.\n",
        "\n",
        "8. Batch Normalization 3:\n",
        "\n",
        "    - Description: This layer normalizes the feature maps from the previous convolutional layer.\n",
        "\n",
        "9. UpSampling Layer 2:\n",
        "\n",
        "    - Size: (2, 2)\n",
        "    - Description: This layer upsamples the feature maps by a factor of 2 again, restoring the spatial dimensions to the original size of the input.\n",
        "\n",
        "10. Output Convolutional Layer:\n",
        "\n",
        "    - Filters: 3\n",
        "    - Kernel Size: (3, 3)\n",
        "    - Activation: Sigmoid\n",
        "    - Padding: Same\n",
        "    - Description: The final layer applies 3 filters of size 3x3 to generate the output image. The sigmoid activation function ensures the output pixel values are between 0 and 1, representing the RGB color channels."
      ]
    },
    {
      "cell_type": "markdown",
      "metadata": {
        "id": "josVIJIE7Xcx"
      },
      "source": [
        "### Model diagram\n",
        "\n",
        "    Input (256, 256, 1)\n",
        "        ↓\n",
        "    Conv2D (64 filters, 3x3, ReLU, same padding)\n",
        "        ↓\n",
        "    UpSampling2D (2x2)\n",
        "        ↓\n",
        "    Conv2D (32 filters, 3x3, ReLU, same padding)\n",
        "        ↓\n",
        "    UpSampling2D (2x2)\n",
        "        ↓\n",
        "    Conv2D (16 filters, 3x3, ReLU, same padding)\n",
        "        ↓\n",
        "    Conv2D (3 filters, 3x3, Sigmoid, same padding)\n",
        "        ↓\n",
        "    Output (256, 256, 3)\n"
      ]
    },
    {
      "cell_type": "markdown",
      "metadata": {
        "id": "AObUuUVgg72j"
      },
      "source": [
        "## Model Analysis\n",
        "\n",
        "###  Number of Parameters\n",
        "- **Total parameters**: **77,064**\n",
        "- **Trainable parameters**: **38,403**\n",
        "- **Non-trainable parameters**: **256**\n",
        "\n",
        "###  Size in Memory\n",
        "362 kb\n"
      ]
    },
    {
      "cell_type": "markdown",
      "metadata": {
        "id": "ptB9WlDng72j"
      },
      "source": [
        "## Training\n",
        "description of the training and the required commands to run it\n",
        "To train the model, ensure you have TensorFlow installed and execute the script:\n",
        "architectures\\arch3.ipynb"
      ]
    },
    {
      "cell_type": "markdown",
      "metadata": {
        "id": "BBNdcj2Vg72j"
      },
      "source": [
        "## Evaluation"
      ]
    },
    {
      "cell_type": "markdown",
      "metadata": {
        "id": "mtktubtn4N3Y"
      },
      "source": [
        "#### Model was build using three different loss functions:     \n",
        "1. MSE Loss (Blue)\n",
        "    - Training and validation loss are very close to zero, indicating the model is performing well in terms of minimizing pixel-wise squared errors.\n",
        "    - The training and validation curves overlap significantly, suggesting low overfitting and a good generalization to the validation set.\n",
        "\n",
        "2. MAE Loss (Red)\n",
        "    - The training and validation losses are slightly higher compared to MSE, as MAE minimizes absolute errors rather than squared errors. This behavior is expected since MAE is less sensitive to outliers but less aggressive in penalizing large errors.\n",
        "    - The validation loss closely follows the training loss, indicating reasonable generalization.\n",
        "\n",
        "3. Binary Crossentropy Loss (Green)\n",
        "    - Both training and validation losses are significantly higher compared to MSE and MAE. This suggests that binary crossentropy might not be the ideal loss function for this task, as it is designed for binary classification or probabilistic outputs rather than pixel-wise continuous values.\n",
        "    - The fluctuation in the loss suggests potential instability or difficulty in optimization.\n",
        "\n",
        "#### Performance Summary:\n",
        "\n",
        "  - Best Model: The model trained with MSE shows the best performance due to its low and stable losses, suitable for a pixel-wise regression task like colorization.\n",
        "  - Decent Alternative: The MAE model also performs well, especially if the task requires robustness to outliers.\n",
        "  - Less Suitable: The binary crossentropy model struggles with this task due to its inappropriate loss function for continuous regression-like outputs.\n",
        "\n",
        "#### Conclusion:\n",
        "\n",
        "For the task of image colorization, the Mean Squared Error loss is the most effective, as it ensures the smoothest and most precise results. Mean Absolute Error is a reasonable alternative if resilience to outliers is required, but binary crossentropy should be avoided for this task."
      ]
    },
    {
      "cell_type": "markdown",
      "metadata": {
        "id": "Ba1S3SD33-ti"
      },
      "source": [
        "![obraz.png](data:image/png;base64,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)"
      ]
    },
    {
      "cell_type": "markdown",
      "metadata": {
        "id": "ywJlIrMag72j"
      },
      "source": [
        "## Hyperparameters\n",
        "### Optimizers\n",
        "#### 1.Adam Optimizer:\n",
        "\n",
        "-Combines the benefits of Adaptive Gradient Algorithm (AdaGrad) and Root Mean Square Propagation (RMSprop).\n",
        "-Adjusts the learning rate individually for each parameter, making it highly effective and widely used.\n",
        "-Suitable for models with sparse gradients or when fine-tuning, often leading to fast convergence.\n",
        "-Tested with a learning rate of 0.001, showing stable training behavior.\n",
        "![OPTIMIZER PLOT](raport_sources\\adam.png)\n",
        "\n",
        "#### 2.SGD (Stochastic Gradient Descent):\n",
        "\n",
        "-A classic optimizer that updates weights based on the gradient of the loss function.\n",
        "-Momentum was added (0.9) to help accelerate convergence and overcome local minima.\n",
        "-Generally slower compared to adaptive optimizers but can yield better generalization with proper tuning.\n",
        "-Learning rate set to 0.001; its simplicity makes it sensitive to such settings.\n",
        "![OPTIMIZER PLOT](raport_sources\\sgd.png)\n",
        "\n",
        "\n",
        "#### 3.RMSprop:\n",
        "\n",
        "-A popular adaptive learning rate optimizer, especially for recurrent neural networks (RNNs).\n",
        "-Divides the learning rate by an exponentially decaying average of squared gradients, which helps balance learning -across parameters.\n",
        "-Works well in scenarios with non-stationary objectives or noisy gradients.\n",
        "-Like Adam, it was tested with a learning rate of 0.001 and proved effective in smoothing the optimization process.\n",
        "![OPTIMIZER PLOT](raport_sources\\rms.png)\n",
        "\n",
        "\n",
        "\n",
        "\n",
        "Each optimizer was tested over 3 epochs on the same model and dataset with reduced steps for quicker evaluation. Validation loss was tracked to compare performance. Results showed the nuances of each optimizer, highlighting their strengths and trade-offs.\n",
        "\n",
        "\n",
        "\n",
        "\n",
        "\n",
        "![OPTIMIZER PLOT](raport_sources\\OPTIMIZER.png)\n",
        "\n",
        "\n",
        "\n",
        "\n",
        "\n",
        "\n",
        "the original image:\n",
        "\n",
        "\n",
        "![OPTIMIZER PLOT](raport_sources\\Abyssinian_2.jpg)\n"
      ]
    },
    {
      "cell_type": "markdown",
      "metadata": {
        "id": "l9NA6GyEg72k"
      },
      "source": [
        "## Models\n",
        "over all we created 16 diffrent models.  they varied in architecture, optimizers used, loss functions , number of epochs and batch sizes.\n",
        "\n",
        "### testing models\n",
        "\"small\" models are ones created for hyperparameter and architecture testing in order to determind which approach we should use\n",
        "\n",
        "#### architecture 1\n",
        "\n",
        "![arch1](raport_sources\\arch1_adam_mse_small.h5_colorization.png)\n",
        "\n",
        "\n",
        "![arch1](raport_sources\\arch1_rms_mse_small.h5_colorization.png)\n",
        "\n",
        "\n",
        "![arch1](raport_sources\\arch1_sgd_mse_small.h5_colorization.png)\n",
        "\n",
        "as we can se the color is almost solid, and we cant even see the cat.\n",
        "\n",
        "#### architecture 3\n",
        "\n",
        "![arch3](raport_sources\\arch3_adam_mse_small.h5_colorization.png)\n",
        "\n",
        "\n",
        "![arch3](raport_sources\\arch3_rms_mse_small.h5_colorization.png)\n",
        "\n",
        "\n",
        "![arch3](raport_sources\\arch3_sgd_mse_small.h5_colorization.png)\n",
        "\n",
        "as we can see the architecture did much better even on small amount of epochs.\n",
        "\n",
        "\n",
        "### bigger models\n",
        " on models tested with larger amount of epochs the diffrence is huge.\n",
        "\n",
        "#### architecture 1\n",
        "\n",
        "\n",
        "![arch1](raport_sources\\arch1_adam_mse_full.h5_colorization.png)\n",
        "\n",
        "#### architecture 3\n",
        "\n",
        "\n",
        "![arch3](raport_sources\\arch3_adam_mse_full.h5_colorization.png)\n",
        "\n",
        "At this point we decided to implement Architecture 3 using RMSprop optimizer and MSE loss function.\n",
        "\n",
        "![arch3](raport_sources\\great_pyrenees_12_colorization_comparison.png)\n",
        "\n",
        "\n",
        "\n",
        "![arch3](raport_sources\\samoyed_14_colorization_comparison.png)\n",
        "\n",
        "![arch3](raport_sources\\great_pyrenees_58_colorization_comparison.png)\n",
        "\n"
      ]
    },
    {
      "cell_type": "markdown",
      "metadata": {
        "id": "TQAYJXObg72k"
      },
      "source": [
        "## Libraries\n",
        "tensorflow==2.13.0\n",
        "\n",
        "keras==2.13.0\n",
        "\n",
        "numpy==1.23.5\n",
        "\n",
        "matplotlib==3.7.1\n",
        "\n",
        "scikit-learn==1.1.2\n",
        "\n",
        "Pillow==9.3.0\n",
        "\n",
        "h5py==3.8.0\n",
        "\n"
      ]
    },
    {
      "cell_type": "markdown",
      "metadata": {
        "id": "bESpaB0fg72k"
      },
      "source": [
        "## Rutime enviroment\n",
        "The script requires the following runtime environment:\n",
        "- Python 3.7+\n",
        "- TensorFlow 2.x\n",
        "- NumPy\n",
        "- Keras (integrated with TensorFlow)\n",
        "- PIL (for image processing)\n",
        "- Jupyter Notebook (for running in an interactive environment)"
      ]
    },
    {
      "cell_type": "markdown",
      "metadata": {
        "id": "Ka4Hls0qg72l"
      },
      "source": [
        "## training and inference time\n",
        "- **Training Time**: The training process depends on the hardware setup. On a typical GPU (e.g., NVIDIA RTX 3080), training for 20 epochs with a batch size of 16 may take approximately **10-20 minutes**. On our machine training the model took about 10 minutes. - **Inference Time**: Generating a colorized image from a grayscale input using the trained model typically takes **a few milliseconds** on a GPU and slightly longer on a CPU."
      ]
    },
    {
      "cell_type": "markdown",
      "metadata": {
        "id": "LE9xedTfg72m"
      },
      "source": [
        "## Bibliography\n",
        "\n",
        "- https://medium.com/@geokam/building-an-image-colorization-neural-network-part-4-implementation-7e8bb74616c\n",
        "- https://github.com/gkamtzir/cnn-image-colorization/tree/main\n",
        "- https://viso.ai/computer-vision/image-data-augmentation-for-computer-vision/"
      ]
    },
    {
      "cell_type": "markdown",
      "metadata": {
        "id": "T4wK8es4g72n"
      },
      "source": [
        "## Points\n",
        "| **Task**                                         | **Status**      | **Points** |\n",
        "|--------------------------------------------------|-----------------|------------|\n",
        "| **Problem: Colorization**                        |  In progress    | 1          |\n",
        "| **Model: Pre-trained model (different problem)** |  Completed      | 1          |\n",
        "| **Data Augmentation**                            |  Completed      | 1          |\n",
        "| **Cross-Validation**                             |  In progress    | 1          |\n",
        "| **Testing Optimizers (at least 3)**              |  Completed      | 1          |\n",
        "| **Testing Loss Functions (at least 3)**          |  Completed      | 1          |\n",
        "| **Dataset Requirements (at least 1000 images)**  |  Completed      | 0 (default requirement) |\n",
        "| **Metrics (at least 2)**                         |  Not Attempted  | 0 (default requirement) |\n",
        "| **Report (descriptions, diagrams, etc.)**        |  In progress    | 0          |\n",
        "| **Visualization Tools (e.g., TensorBoard)**      |  Not Attempted  | 1          |\n",
        "\n",
        "### **Points Summary**\n",
        "- **Problem**: 1\n",
        "- **Model**: 1\n",
        "- **Additional Points (Training, Dataset, Tools)**: 5\n",
        "- **Total Points**: **7**\n",
        "\n",
        "\n",
        "\n",
        "\n",
        "[Link to Git](https://github.com/Strajkerr/CV_Image_Colourization)"
      ]
    }
  ],
  "metadata": {
    "colab": {
      "provenance": [],
      "toc_visible": true
    },
    "kernelspec": {
      "display_name": "Python 3",
      "name": "python3"
    },
    "language_info": {
      "name": "python"
    }
  },
  "nbformat": 4,
  "nbformat_minor": 0
}
