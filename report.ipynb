{
 "cells": [
  {
   "cell_type": "markdown",
   "metadata": {},
   "source": [
    "# CV Project 3 - Image Colourization on pets dataset"
   ]
  },
  {
   "cell_type": "markdown",
   "metadata": {},
   "source": [
    "Prepared by:\n",
    " - Marianna Myszkowska 156041\n",
    " - Jakub Liszyński 156060"
   ]
  },
  {
   "cell_type": "markdown",
   "metadata": {},
   "source": [
    "## Data set\n",
    "The Oxford-IIIT Pet Dataset is a comprehensive collection of images featuring 37 distinct pet breeds, including both cats and dogs, with approximately 200 images per breed. The dataset offers significant diversity in terms of scale, pose, and lighting conditions, making it valuable for various computer vision tasks.\n",
    "\n",
    "### Key Features:\n",
    "- **Breed Annotations:** Each image is labeled with its respective breed, facilitating classification tasks.\n",
    "- **Head Region of Interest (ROI):** Annotations include bounding boxes around the pet's head, aiding in localization studies.\n",
    "- **Pixel-Level Trimap Segmentation:** Detailed annotations provide pixel-wise segmentation, distinguishing between the pet, foreground, and background, which is particularly useful for segmentation tasks.\n",
    "\n",
    "## Sample Images:\n",
    "Here are a few examples from the dataset:\n",
    "\n",
    "\n",
    "![card](dataset-card.png) \n",
    "\n",
    "\n",
    "\n",
    "For more information and to access the dataset, please visit the [official website](https://www.robots.ox.ac.uk/~vgg/data/pets/).\n"
   ]
  },
  {
   "cell_type": "markdown",
   "metadata": {},
   "source": [
    "## "
   ]
  }
 ],
 "metadata": {
  "language_info": {
   "name": "python"
  }
 },
 "nbformat": 4,
 "nbformat_minor": 2
}
