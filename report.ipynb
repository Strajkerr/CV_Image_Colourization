{
 "cells": [
  {
   "cell_type": "markdown",
   "metadata": {},
   "source": [
    "# CV Project 3 - Image Colourization on pets dataset"
   ]
  },
  {
   "cell_type": "markdown",
   "metadata": {},
   "source": [
    "#### *Project description* - Colourization of pets images with use of the neural network.\n",
    "\n",
    "Prepared by:\n",
    " - Marianna Myszkowska 156041\n",
    " - Jakub Liszyński 156060"
   ]
  }
 ],
 "metadata": {
  "language_info": {
   "name": "python"
  }
 },
 "nbformat": 4,
 "nbformat_minor": 2
}
