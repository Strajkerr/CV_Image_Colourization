{
 "cells": [
  {
   "cell_type": "code",
   "execution_count": 2,
   "metadata": {},
   "outputs": [
    {
     "name": "stdout",
     "output_type": "stream",
     "text": [
      "Copied 5912 images to cv_p3_images/split\\train\n",
      "Copied 1478 images to cv_p3_images/split\\val\n"
     ]
    }
   ],
   "source": [
    "import os\n",
    "import os\n",
    "import shutil\n",
    "from sklearn.model_selection import train_test_split\n",
    "\n",
    "def split_data(input_folder, output_folder, test_size=0.2):\n",
    "    if not os.path.exists(output_folder):\n",
    "        os.makedirs(output_folder)\n",
    "    \n",
    "    train_folder = os.path.join(output_folder, 'train')\n",
    "    val_folder = os.path.join(output_folder, 'val')\n",
    "    \n",
    "    if not os.path.exists(train_folder):\n",
    "        os.makedirs(train_folder)\n",
    "    if not os.path.exists(val_folder):\n",
    "        os.makedirs(val_folder)\n",
    "    \n",
    "    images = [f for f in os.listdir(input_folder) if f.endswith(('.png', '.jpg', '.jpeg'))]\n",
    "    train_images, val_images = train_test_split(images, test_size=test_size, random_state=42)\n",
    "    \n",
    "    for image in train_images:\n",
    "        shutil.copy(os.path.join(input_folder, image), os.path.join(train_folder, image))\n",
    "    \n",
    "    for image in val_images:\n",
    "        shutil.copy(os.path.join(input_folder, image), os.path.join(val_folder, image))\n",
    "    \n",
    "    print(f\"Copied {len(train_images)} images to {train_folder}\")\n",
    "    print(f\"Copied {len(val_images)} images to {val_folder}\")\n",
    "\n",
    "# Example usage:\n",
    "input_folder = 'cv_p3_images/gray'\n",
    "output_folder = 'cv_p3_images/split'\n",
    "split_data(input_folder, output_folder)\n"
   ]
  }
 ],
 "metadata": {
  "kernelspec": {
   "display_name": "Python 3",
   "language": "python",
   "name": "python3"
  },
  "language_info": {
   "codemirror_mode": {
    "name": "ipython",
    "version": 3
   },
   "file_extension": ".py",
   "mimetype": "text/x-python",
   "name": "python",
   "nbconvert_exporter": "python",
   "pygments_lexer": "ipython3",
   "version": "3.12.0"
  }
 },
 "nbformat": 4,
 "nbformat_minor": 2
}
