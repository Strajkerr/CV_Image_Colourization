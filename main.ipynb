{
 "cells": [
  {
   "cell_type": "markdown",
   "metadata": {},
   "source": [
    "### TODO:\n",
    "\n",
    "- ~~Create git repo~~\n",
    "- Neural Network Architecture to solve image colourization problem\n",
    "- Data Augmentation\n",
    "- Cross-validation\n",
    "- Testing a few optimizers\n",
    "- Testing various loss funtions"
   ]
  }
 ],
 "metadata": {
  "language_info": {
   "name": "python"
  }
 },
 "nbformat": 4,
 "nbformat_minor": 2
}
