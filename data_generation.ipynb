{
 "cells": [
  {
   "cell_type": "code",
   "execution_count": 4,
   "metadata": {},
   "outputs": [
    {
     "name": "stdout",
     "output_type": "stream",
     "text": [
      "Dataset prepared in cv_p3_images_split.\n",
      "Training set: 5912 images.\n",
      "Validation set: 739 images.\n",
      "Test set: 739 images.\n"
     ]
    }
   ],
   "source": [
    "import os\n",
    "import random\n",
    "from shutil import copy2\n",
    "from PIL import Image\n",
    "\n",
    "input_dir = \"cv_p3_images_original\"\n",
    "output_dir = \"cv_p3_images_split\"\n",
    "train_ratio = 0.8\n",
    "val_ratio = 0.1\n",
    "test_ratio = 0.1\n",
    "train_colored_dir = os.path.join(output_dir, \"train\", \"colored\")\n",
    "train_grayscale_dir = os.path.join(output_dir, \"train\", \"grayscale\")\n",
    "val_colored_dir = os.path.join(output_dir, \"validation\", \"colored\")\n",
    "val_grayscale_dir = os.path.join(output_dir, \"validation\", \"grayscale\")\n",
    "test_colored_dir = os.path.join(output_dir, \"test\", \"colored\")\n",
    "test_grayscale_dir = os.path.join(output_dir, \"test\", \"grayscale\")\n",
    "\n",
    "os.makedirs(train_colored_dir, exist_ok=True)\n",
    "os.makedirs(train_grayscale_dir, exist_ok=True)\n",
    "os.makedirs(val_colored_dir, exist_ok=True)\n",
    "os.makedirs(val_grayscale_dir, exist_ok=True)\n",
    "os.makedirs(test_colored_dir, exist_ok=True)\n",
    "os.makedirs(test_grayscale_dir, exist_ok=True)\n",
    "\n",
    "image_files = [f for f in os.listdir(input_dir) if f.lower().endswith((\".jpg\", \".jpeg\", \".png\"))]\n",
    "random.shuffle(image_files)\n",
    "split_idx_train = int(len(image_files) * train_ratio)\n",
    "split_idx_val = int(len(image_files) * (train_ratio + val_ratio))\n",
    "train_files = image_files[:split_idx_train]\n",
    "val_files = image_files[split_idx_train:split_idx_val]\n",
    "test_files = image_files[split_idx_val:]\n",
    "\n",
    "\n",
    "def save_grayscale_images(files, source_dir, dest_colored_dir, dest_grayscale_dir):\n",
    "    for file in files:\n",
    "        source_path = os.path.join(source_dir, file)\n",
    "        colored_dest_path = os.path.join(dest_colored_dir, file)\n",
    "        grayscale_dest_path = os.path.join(dest_grayscale_dir, file)\n",
    "        copy2(source_path, colored_dest_path)\n",
    "        img = Image.open(source_path).convert(\"L\")\n",
    "        img.save(grayscale_dest_path)\n",
    "\n",
    "save_grayscale_images(train_files, input_dir, train_colored_dir, train_grayscale_dir)\n",
    "save_grayscale_images(val_files, input_dir, val_colored_dir, val_grayscale_dir)\n",
    "save_grayscale_images(test_files, input_dir, test_colored_dir, test_grayscale_dir)\n",
    "\n",
    "print(f\"Dataset prepared in {output_dir}.\")\n",
    "print(f\"Training set: {len(train_files)} images.\")\n",
    "print(f\"Validation set: {len(val_files)} images.\")\n",
    "print(f\"Test set: {len(test_files)} images.\")\n"
   ]
  }
 ],
 "metadata": {
  "kernelspec": {
   "display_name": "computerVision",
   "language": "python",
   "name": "python3"
  },
  "language_info": {
   "codemirror_mode": {
    "name": "ipython",
    "version": 3
   },
   "file_extension": ".py",
   "mimetype": "text/x-python",
   "name": "python",
   "nbconvert_exporter": "python",
   "pygments_lexer": "ipython3",
   "version": "3.9.18"
  }
 },
 "nbformat": 4,
 "nbformat_minor": 2
}
